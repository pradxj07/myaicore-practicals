{
  "cells": [
    {
      "cell_type": "markdown",
      "metadata": {
        "id": "view-in-github",
        "colab_type": "text"
      },
      "source": [
        "<a href=\"https://colab.research.google.com/github/pradxj07/myaicore-practicals/blob/main/Copy_of_milestone_2.ipynb\" target=\"_parent\"><img src=\"https://colab.research.google.com/assets/colab-badge.svg\" alt=\"Open In Colab\"/></a>"
      ]
    },
    {
      "cell_type": "markdown",
      "metadata": {
        "id": "i_xLFYD8a_h3"
      },
      "source": [
        "# Movie Recommendation - Milestone 2"
      ]
    },
    {
      "cell_type": "markdown",
      "metadata": {
        "id": "0KfRJ1fbSXd1"
      },
      "source": [
        "<details>\n",
        "  <summary>Click in any of these links to compare your solution with ours up to this point</summary>\n",
        "  <p>\n",
        "    <a href=\"https://colab.research.google.com/github/AI-Core/movie-recommendation-solutions/blob/main/solution_m1.ipynb\" target=\"_parent\">Solution for milestone 1</a>\n",
        "  </p>\n",
        "</details>"
      ]
    },
    {
      "cell_type": "code",
      "execution_count": null,
      "metadata": {
        "colab": {
          "base_uri": "https://localhost:8080/"
        },
        "id": "RLn-_E7Ba3Q4",
        "outputId": "6af95024-b68a-4aaf-9496-7177ca6b7061"
      },
      "outputs": [
        {
          "output_type": "stream",
          "name": "stdout",
          "text": [
            "  Preparing metadata (setup.py) ... \u001b[?25l\u001b[?25hdone\n",
            "  Preparing metadata (setup.py) ... \u001b[?25l\u001b[?25hdone\n",
            "  Building wheel for movie-rec-marking-aicore (setup.py) ... \u001b[?25l\u001b[?25hdone\n",
            "  Building wheel for timeout-decorator (setup.py) ... \u001b[?25l\u001b[?25hdone\n"
          ]
        }
      ],
      "source": [
        "#@title # Run this cell before you start coding { display-mode: \"form\" }\n",
        "#@markdown Don’t worry about what’s in this collapsed cell, you’re not expected to understand the code inside\n",
        "\n",
        "!pip install movie-rec-marking-aicore --upgrade --quiet\n",
        "!wget https://aicore-files.s3.amazonaws.com/Movie-Recommendation/movies-head.json --quiet\n",
        "import json\n",
        "from movie_rec_marking import test_milestone_2\n",
        "\n",
        "# Load the movies\n",
        "with open('movies-head.json', 'r') as f:\n",
        "    movies = json.load(f)"
      ]
    },
    {
      "cell_type": "markdown",
      "metadata": {
        "id": "MYQw48Lqa3Q4"
      },
      "source": [
        "# Task 1\n",
        "### Display all the movies' titles\n",
        "\n",
        "Define a function called `print_every_movie_title` that goes through the list of movies and prints each of their title, one by one. The function should not return anything"
      ]
    },
    {
      "cell_type": "code",
      "execution_count": null,
      "metadata": {
        "id": "1UpT9BAym0iW"
      },
      "outputs": [],
      "source": [
        "## Write your code here"
      ]
    },
    {
      "cell_type": "code",
      "execution_count": null,
      "metadata": {
        "id": "VpSN78c4SXd5"
      },
      "outputs": [],
      "source": [
        "#@title Run this cell to check your solution { display-mode: \"form\", run: \"auto\" }\n",
        "assert 'print_every_movie_title' in globals(), \"Please define the function print_every_movie_title\"\n",
        "task_1 = test_milestone_2.check_print_every_movie_title(print_every_movie_title)"
      ]
    },
    {
      "cell_type": "markdown",
      "metadata": {
        "id": "b2z7EsWiSXd5"
      },
      "source": [
        "# Task 2\n",
        "\n",
        "### What is the length of a given movie's description?\n",
        "\n",
        "Define a function called `get_movie_description_length` that takes in one of the movies from the list of movies.\n",
        "You should pass the entire dictionary from the relevant entry in the list of movies as an input argument to the function.\n",
        "The function should then return the exact number of characters in its description, formatted as an integer.\n",
        "\n",
        "Test the function you have defined by using it to check the description of the the first entry in the `movies` list (i.e. `movies[0]`)."
      ]
    },
    {
      "cell_type": "code",
      "execution_count": null,
      "metadata": {
        "id": "6t2wCcAJSXd6"
      },
      "outputs": [],
      "source": [
        "## Write your code here"
      ]
    },
    {
      "cell_type": "code",
      "execution_count": null,
      "metadata": {
        "id": "RWc4yQXuSXd6"
      },
      "outputs": [],
      "source": [
        "#@title Run this cell to check your solution { display-mode: \"form\", run: \"auto\" }\n",
        "assert 'get_movie_description_length' in globals(), \"Please define the function get_movie_description_length\"\n",
        "task_2 = test_milestone_2.check_get_movie_description_length(get_movie_description_length, task_1)"
      ]
    },
    {
      "cell_type": "markdown",
      "metadata": {
        "id": "HkFfnSQYSXd7"
      },
      "source": [
        "# Task 3\n",
        "\n",
        "### What is the average length of any movie description?\n",
        "\n",
        "Define a function called `get_avg_movie_description_length` that returns the average number of characters in each movie description, averaged across the whole dataset.\n",
        "\n",
        "The function should return a floating point number, rounded to 1 decimal place.\n",
        "\n",
        "To avoid repeating code, make sure that you use the function you defined earlier for getting the movie description length inside this function."
      ]
    },
    {
      "cell_type": "code",
      "execution_count": null,
      "metadata": {
        "id": "08yYHIu5SXd7"
      },
      "outputs": [],
      "source": [
        "## Write your code here"
      ]
    },
    {
      "cell_type": "code",
      "execution_count": null,
      "metadata": {
        "id": "Jf9qeWwGSXd7"
      },
      "outputs": [],
      "source": [
        "#@title Run this cell to check your solution { display-mode: \"form\", run: \"auto\" }\n",
        "assert 'get_avg_movie_description_length' in globals(), \"Please define the function get_avg_movie_description_length\"\n",
        "task_3 = test_milestone_2.check_get_avg_movie_description_length(get_avg_movie_description_length, task_2)"
      ]
    },
    {
      "cell_type": "markdown",
      "metadata": {
        "id": "OBtvpOZdSXd8"
      },
      "source": [
        "# Task 4\n",
        "\n",
        "### What is the maximum length of any movie name?\n",
        "\n",
        "Define a function called `get_max_movie_name_length`.\n",
        "\n",
        "It should return two things, in this order:\n",
        "\n",
        "1. The integer number of the length of the longest movie name\n",
        "2. The name of the movie"
      ]
    },
    {
      "cell_type": "code",
      "execution_count": null,
      "metadata": {
        "id": "9MxQsHLqSXd8"
      },
      "outputs": [],
      "source": [
        "## Write your code here"
      ]
    },
    {
      "cell_type": "code",
      "execution_count": null,
      "metadata": {
        "id": "Mu5OuzkFSXd8"
      },
      "outputs": [],
      "source": [
        "#@title Run this cell to check your solution { display-mode: \"form\", run: \"auto\" }\n",
        "assert 'get_max_movie_name_length' in globals(), \"Please define the function get_max_movie_name_length\"\n",
        "task_4 = test_milestone_2.check_get_max_movie_name_length(get_max_movie_name_length, task_3)"
      ]
    }
  ],
  "metadata": {
    "colab": {
      "provenance": [],
      "include_colab_link": true
    },
    "kernelspec": {
      "display_name": "base",
      "language": "python",
      "name": "python3"
    },
    "language_info": {
      "codemirror_mode": {
        "name": "ipython",
        "version": 3
      },
      "file_extension": ".py",
      "mimetype": "text/x-python",
      "name": "python",
      "nbconvert_exporter": "python",
      "pygments_lexer": "ipython3",
      "version": "3.9.12 (main, Apr  5 2022, 06:56:58) \n[GCC 7.5.0]"
    },
    "orig_nbformat": 4,
    "vscode": {
      "interpreter": {
        "hash": "a2592652612463181e69ac003232387e3e9a99279aa6b168e76f5df16d5110f4"
      }
    }
  },
  "nbformat": 4,
  "nbformat_minor": 0
}