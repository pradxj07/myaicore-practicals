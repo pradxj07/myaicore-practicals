{
  "cells": [
    {
      "cell_type": "markdown",
      "metadata": {
        "id": "view-in-github",
        "colab_type": "text"
      },
      "source": [
        "<a href=\"https://colab.research.google.com/github/pradxj07/myaicore-practicals/blob/main/Copy_of_Practical_error_handling.ipynb\" target=\"_parent\"><img src=\"https://colab.research.google.com/assets/colab-badge.svg\" alt=\"Open In Colab\"/></a>"
      ]
    },
    {
      "cell_type": "markdown",
      "metadata": {
        "id": "jdJ-HB3VR3TQ"
      },
      "source": [
        "# Handle a Zero Divisor"
      ]
    },
    {
      "cell_type": "markdown",
      "metadata": {
        "id": "97sGo3C8R3TT"
      },
      "source": [
        "Write a function that uses a `try`-`except` block to handle a `ZeroDivisionError`. It should take in two numbers  `a` and `b` as input parameters, and return `a/b`, except where a `ZeroDivisonError` occurs, in which case it should retsurn `0`. Call it with the arguments `a=x` and `b=y` to check it."
      ]
    },
    {
      "cell_type": "code",
      "execution_count": null,
      "metadata": {
        "colab": {
          "base_uri": "https://localhost:8080/"
        },
        "id": "oIkbRS9xR3TU",
        "outputId": "c4bd8859-3e7e-4c8a-f512-2f2d2c1f37f1"
      },
      "outputs": [
        {
          "output_type": "execute_result",
          "data": {
            "text/plain": [
              "0"
            ]
          },
          "metadata": {},
          "execution_count": 1
        }
      ],
      "source": [
        "x = 10\n",
        "y = 0\n",
        "\n",
        "# TODO: Create a divide function that uses a try-except block to return a 0 in case of a ZeroDivisionError\n",
        "def divide_with_try(a,b):\n",
        "    try:\n",
        "      return a/b\n",
        "    except ZeroDivisionError:\n",
        "      return 0\n",
        "\n",
        "divide_with_try(x,y)"
      ]
    },
    {
      "cell_type": "markdown",
      "metadata": {
        "id": "Gf0zjQBCR3TW"
      },
      "source": [
        "Now modify the function so that instead of taking in two parameters, it asks for user input to get the values of `a` and `b`. In the case of a `ZeroDivisionError` it should request the user re-enter their input"
      ]
    },
    {
      "cell_type": "code",
      "execution_count": null,
      "metadata": {
        "colab": {
          "base_uri": "https://localhost:8080/"
        },
        "id": "L-8kbfe3R3TX",
        "outputId": "2367873f-7db5-4147-9bce-a6498169f682"
      },
      "outputs": [
        {
          "name": "stdout",
          "output_type": "stream",
          "text": [
            "Enter value for a: 10\n",
            "Enter value for b: 0\n",
            "Zero Division error. Try again\n",
            "Enter value for a: 10\n",
            "Enter value for b: 100\n"
          ]
        },
        {
          "output_type": "execute_result",
          "data": {
            "text/plain": [
              "0.1"
            ]
          },
          "metadata": {},
          "execution_count": 8
        }
      ],
      "source": [
        "# TODO: Create a user_input_divide function that asks for two user input for a and b, and returns a/b, handling the ZeroDivisionError by requesting new input\n",
        "\n",
        "def user_input_divide():\n",
        "  while 1==1:\n",
        "    a = int(input(\"Enter value for a: \"))\n",
        "    b = int(input(\"Enter value for b: \"))\n",
        "\n",
        "    try:\n",
        "      return a/b\n",
        "      break\n",
        "    except ZeroDivisionError:\n",
        "      print(\"Zero Division error. Try again\")\n",
        "\n",
        "user_input_divide()"
      ]
    }
  ],
  "metadata": {
    "kernelspec": {
      "display_name": "content_repo",
      "language": "python",
      "name": "python3"
    },
    "language_info": {
      "codemirror_mode": {
        "name": "ipython",
        "version": 3
      },
      "file_extension": ".py",
      "mimetype": "text/x-python",
      "name": "python",
      "nbconvert_exporter": "python",
      "pygments_lexer": "ipython3",
      "version": "3.11.3"
    },
    "colab": {
      "provenance": [],
      "include_colab_link": true
    }
  },
  "nbformat": 4,
  "nbformat_minor": 0
}