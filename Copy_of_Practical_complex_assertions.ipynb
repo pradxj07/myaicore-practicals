{
  "cells": [
    {
      "cell_type": "markdown",
      "metadata": {
        "id": "view-in-github",
        "colab_type": "text"
      },
      "source": [
        "<a href=\"https://colab.research.google.com/github/pradxj07/myaicore-practicals/blob/main/Copy_of_Practical_complex_assertions.ipynb\" target=\"_parent\"><img src=\"https://colab.research.google.com/assets/colab-badge.svg\" alt=\"Open In Colab\"/></a>"
      ]
    },
    {
      "cell_type": "markdown",
      "id": "c2449855",
      "metadata": {
        "id": "c2449855"
      },
      "source": [
        "# Create More Complex Assertions"
      ]
    },
    {
      "cell_type": "code",
      "execution_count": null,
      "id": "9d387fdb",
      "metadata": {
        "id": "9d387fdb",
        "outputId": "612b590b-fa98-4695-884b-cf64458d8c13",
        "colab": {
          "base_uri": "https://localhost:8080/"
        }
      },
      "outputs": [
        {
          "output_type": "stream",
          "name": "stdout",
          "text": [
            "  Preparing metadata (setup.py) ... \u001b[?25l\u001b[?25hdone\n",
            "  Building wheel for timeout-decorator (setup.py) ... \u001b[?25l\u001b[?25hdone\n",
            "Downloading the marking system\n"
          ]
        }
      ],
      "source": [
        "#@title ### Run the following cell to download the necessary files for this practical { display-mode: \"form\" }\n",
        "#@markdown Don't worry about what's in this collapsed cell\n",
        "\n",
        "!pip install -q timeout-decorator\n",
        "print('Downloading the marking system')\n",
        "!wget https://s3-eu-west-1.amazonaws.com/aicore-portal-public-prod-307050600709/practical_files/9a75bb25-3fb5-40fa-84e6-9989212f8a0b/marking_system.py -q -O marking_system.py\n",
        "import marking_system\n",
        "import importlib\n",
        "importlib.reload(marking_system)\n",
        "import sys\n",
        "ipython = get_ipython()\n",
        "def hide_traceback(exc_tuple=None, filename=None, tb_offset=None, exception_only=False, running_compiled_code=False):\n",
        "    etype, value, tb = sys.exc_info()\n",
        "    value.__cause__ = None  # suppress chained exceptions\n",
        "    return ipython._showtraceback(etype, \"❌ \" + f\"\u001b[91m{value}\", ipython.InteractiveTB.get_exception_only(etype, \"❌ \" + f\"\u001b[91m{value}\"))\n",
        "ipython.showtraceback = hide_traceback\n"
      ]
    },
    {
      "cell_type": "markdown",
      "id": "af1cce02",
      "metadata": {
        "id": "af1cce02"
      },
      "source": [
        "Assertions will help you to find bugs in your code, but they will only raise a type of error called an `AssertionError`.\n",
        "\n",
        "In some cases, you may want to raise a different type of error. For example, you may want to raise a `ValueError` if certain conditions are not met.\n",
        "\n",
        "For example, let's say you want to raise a `ValueError` if a number is lower than 0. You can use an `if` statement to check if the number is lower than 0, and if it is, you can raise a `ValueError`\n",
        "\n"
      ]
    },
    {
      "cell_type": "code",
      "execution_count": null,
      "id": "114cb856",
      "metadata": {
        "id": "114cb856",
        "outputId": "94c085e8-2e2a-4f5e-d399-8a8be3496dc2",
        "colab": {
          "base_uri": "https://localhost:8080/",
          "height": 54
        }
      },
      "outputs": [
        {
          "output_type": "error",
          "ename": "ValueError",
          "evalue": "❌ \u001b[91mx must be positive",
          "traceback": [
            "\u001b[0;31mValueError\u001b[0m\u001b[0;31m:\u001b[0m ❌ \u001b[91mx must be positive\n"
          ]
        }
      ],
      "source": [
        "x = -1\n",
        "# x = int(input(\"Enter a number: \")) # Comment this out to try this cell out with different values\n",
        "if x < 0:\n",
        "    raise ValueError(\"x must be positive\")\n"
      ]
    },
    {
      "cell_type": "markdown",
      "id": "88ae629c",
      "metadata": {
        "id": "88ae629c"
      },
      "source": [
        "\n",
        "In this practical, you will write some code that raises a `ValueError` if a certain condition is not met."
      ]
    },
    {
      "cell_type": "markdown",
      "id": "1285a4d0",
      "metadata": {
        "id": "1285a4d0"
      },
      "source": [
        "### 1. Add two checks to the code below to make sure that the name is `John` and the age is greater than or equal to 18.\n",
        "\n",
        "1. One check will assert that the name is `John`\n",
        "    - If it is, print out the message `\"Hello, John\"`.\n",
        "    - If it isn't, raise an `AssertionError` with the message `\"You are not John\"`\n",
        "2. The other check will raise a `ValueError` if the age is less than 18:\n",
        "    - If it is, print out the message `\"You are old enough to vote\"`\n",
        "    - If it isn't, raise a `ValueError` with the message `\"You are not old enough to vote\"`\n",
        "\n",
        "For the last step, you will need to use the `raise` keyword. You can combine it with an `if` statement to raise an error if a condition is not met. The code below will help you get started."
      ]
    },
    {
      "cell_type": "code",
      "execution_count": null,
      "id": "78a02e7b",
      "metadata": {
        "id": "78a02e7b",
        "outputId": "37caac6a-1788-4349-d842-6f32719e07c1",
        "colab": {
          "base_uri": "https://localhost:8080/"
        }
      },
      "outputs": [
        {
          "output_type": "stream",
          "name": "stdout",
          "text": [
            "Please, enter your name: John\n",
            "Please, enter your age: 50\n",
            "Hello, John\n",
            "You are old enough to vote\n"
          ]
        }
      ],
      "source": [
        "name = input(\"Please, enter your name: \")\n",
        "age = int(input(\"Please, enter your age: \"))\n",
        "\n",
        "# Add your code below this line\n",
        "# TODO - Assert that the name is John\n",
        "assert name == \"John\", \"You are not John\"\n",
        "print(\"Hello, John\")\n",
        "if age >= 18:\n",
        "    print(\"You are old enough to vote\")\n",
        "# TODO - Add an else statement\n",
        "    # TODO - Raise a ValueError if the age is less than 18\n",
        "else:\n",
        "    raise ValueError(\"You are not old enough to vote\")\n"
      ]
    },
    {
      "cell_type": "code",
      "execution_count": null,
      "id": "50f14cb3",
      "metadata": {
        "id": "50f14cb3",
        "outputId": "25334e1a-1ff9-4554-9268-2d677aeb0b8c",
        "colab": {
          "base_uri": "https://localhost:8080/"
        }
      },
      "outputs": [
        {
          "output_type": "stream",
          "name": "stdout",
          "text": [
            "\u001b[92m✔ Well done! You successfully created a simple assertion that checks if the user's name is John and is old enough to vote.\n"
          ]
        }
      ],
      "source": [
        "#@title #### Run this cell to check if your code looks good { display-mode: \"form\"}\n",
        "assert \"# Add your code below this line\" in _ih[-2], \"Before checking your code, make sure the last cell you ran contains your code. If you did, make sure you haven't deleted the comment that says '# Add your code below this line'.\"\n",
        "assert \"#@title\" not in _ih[-2], \"If you want to check your code, rerun the cell that contains your code. If you did, make sure you haven't deleted the comment that says '# Add your code below this line'.\"\n",
        "\n",
        "marking_system.check_step_1(_ih[-2])\n"
      ]
    }
  ],
  "metadata": {
    "kernelspec": {
      "display_name": "content-projects_new",
      "language": "python",
      "name": "python3"
    },
    "language_info": {
      "codemirror_mode": {
        "name": "ipython",
        "version": 3
      },
      "file_extension": ".py",
      "mimetype": "text/x-python",
      "name": "python",
      "nbconvert_exporter": "python",
      "pygments_lexer": "ipython3",
      "version": "3.10.8"
    },
    "vscode": {
      "interpreter": {
        "hash": "4b961f8166aad6ccb4cf65d0f9c742ef9c6c23ffe83ad932438cd83ed96aebaf"
      }
    },
    "colab": {
      "provenance": [],
      "include_colab_link": true
    }
  },
  "nbformat": 4,
  "nbformat_minor": 5
}