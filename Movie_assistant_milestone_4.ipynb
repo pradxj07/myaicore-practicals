{
  "cells": [
    {
      "cell_type": "markdown",
      "metadata": {
        "id": "view-in-github",
        "colab_type": "text"
      },
      "source": [
        "<a href=\"https://colab.research.google.com/github/pradxj07/myaicore-practicals/blob/main/Movie_assistant_milestone_4.ipynb\" target=\"_parent\"><img src=\"https://colab.research.google.com/assets/colab-badge.svg\" alt=\"Open In Colab\"/></a>"
      ]
    },
    {
      "cell_type": "markdown",
      "metadata": {
        "id": "i_xLFYD8a_h3"
      },
      "source": [
        "# Movie Recommendation - Milestone 4\n"
      ]
    },
    {
      "cell_type": "markdown",
      "metadata": {
        "id": "KXmocwllFkdl"
      },
      "source": [
        "<details>\n",
        "  <summary>Click in any of these links to compare your solution with ours up to this point</summary>\n",
        "  <p>\n",
        "    <a href=\"https://colab.research.google.com/github/AI-Core/movie-recommendation-solutions/blob/main/solution_m1.ipynb\" target=\"_parent\">Solution for milestone 1</a>\n",
        "  </p>\n",
        "  <p>\n",
        "    <a href=\"https://colab.research.google.com/github/AI-Core/movie-recommendation-solutions/blob/main/solution_m2.ipynb\" target=\"_parent\">Solution for milestone 2</a>\n",
        "  </p>\n",
        "    <p>\n",
        "        <a href=\"https://colab.research.google.com/github/AI-Core/movie-recommendation-solutions/blob/main/solution_m3.ipynb\" target=\"_parent\">Solution for milestone 3</a>\n",
        "    </p>\n",
        "</details>"
      ]
    },
    {
      "cell_type": "code",
      "execution_count": null,
      "metadata": {
        "id": "Vmc0zoeFFkdn"
      },
      "outputs": [],
      "source": [
        "#@title # Run the following cell to add the `movies` variable and the `get_unique_genres` and `get_movies_in_genre` functions will be available for you to use. { display-mode: \"form\" }\n",
        "#@markdown Don’t worry about what’s in this collapsed cell, you’re not expected to understand the code inside\n",
        "\n",
        "!pip install movie-rec-marking-aicore --upgrade --quiet\n",
        "!wget https://aicore-files.s3.amazonaws.com/Movie-Recommendation/movies.json --quiet\n",
        "from movie_rec_marking import test_milestone_4\n",
        "import json\n",
        "with open('movies.json', 'r') as f:\n",
        "    movies = json.load(f)\n",
        "\n",
        "def get_unique_genres():\n",
        "    genres = []\n",
        "    for movie in movies:\n",
        "        genres.append(movie[\"genre\"])\n",
        "    genres = set(genres)\n",
        "    return genres\n",
        "\n",
        "def get_movies_in_genre(genre):\n",
        "    movies_in_genre = []\n",
        "    for movie in movies:\n",
        "        if movie[\"genre\"] == genre:\n",
        "            movies_in_genre.append(movie)\n",
        "    return movies_in_genre"
      ]
    },
    {
      "cell_type": "markdown",
      "metadata": {
        "id": "MYQw48Lqa3Q4"
      },
      "source": [
        "# Task 1\n",
        "### Ask the user what genre they are interested in\n",
        "\n",
        "Before you ask a user for their input, print out all of the available options. Get this from your `get_unique_genre`s method defined earlier.\n",
        "\n",
        "Then, take a user input using the `input()` function and assign it to the variable genre_choice.\n",
        "\n",
        "Put all of this in a function called `get_user_genre_choice`.\n",
        "\n",
        "Open this notebook  to get started, and follow the instructions for this milestone.\n",
        "\n"
      ]
    },
    {
      "cell_type": "code",
      "execution_count": null,
      "metadata": {
        "id": "1UpT9BAym0iW",
        "outputId": "f0e682cf-3f37-4216-ffd6-9cda09e7a634",
        "colab": {
          "base_uri": "https://localhost:8080/"
        }
      },
      "outputs": [
        {
          "output_type": "stream",
          "name": "stdout",
          "text": [
            "Available genres: {'Adventure', 'Action', 'Crime', 'Comedy', 'Mystery', 'Horror', 'Drama', 'Animation', 'Western', 'Film-Noir', 'Biography'}\n",
            "Choose a genre from the above list  and type here: Crime\n",
            "Crime\n"
          ]
        }
      ],
      "source": [
        "## Write your code here\n",
        "def get_user_genre_choice():\n",
        "  genres = get_unique_genres()\n",
        "  print(\"Available genres: \" + str(genres))\n",
        "\n",
        "  user_selection = input(\"Choose a genre from the above list  and type here: \")\n",
        "\n",
        "  return user_selection\n",
        "\n",
        "user_genre = get_user_genre_choice()\n",
        "print(user_genre)\n"
      ]
    },
    {
      "cell_type": "code",
      "execution_count": null,
      "metadata": {
        "id": "YYIjcUFiFkdp",
        "outputId": "6fddcf4a-110c-44dc-924b-ccba95ad46e8",
        "colab": {
          "base_uri": "https://localhost:8080/"
        }
      },
      "outputs": [
        {
          "output_type": "stream",
          "name": "stdout",
          "text": [
            "Great! The \"get_user_genre_choice\" function prints the correct genre\n",
            "You can continue to the next task\n"
          ]
        }
      ],
      "source": [
        "#@title Run this cell to check your solution { display-mode: \"form\", run: \"auto\" }\n",
        "\n",
        "assert 'get_user_genre_choice' in globals(), \"You need to define a function called get_user_genre_choice\"\n",
        "task_1 = test_milestone_4.check_get_user_genre_choice(get_user_genre_choice)"
      ]
    },
    {
      "cell_type": "markdown",
      "metadata": {
        "id": "gLRcFMTXFkdq"
      },
      "source": [
        "# Task 2\n",
        "\n",
        "### Show the movies in the selected genre\n",
        "\n",
        "Write some code to show the movies in a selected genre (you don't need to define this as a function yet):\n",
        "\n",
        "Use your `get_movies_in_genre` function to get a list of movies in the genre selected.\n",
        "\n",
        "\n",
        "Print each movie within the selected genre on a new line. At the start of the line, print the integer index of the movie.\n",
        "\n",
        "\n",
        "Make sure to:\n",
        "\n",
        "- Use the built-in `enumerate` function\n",
        "- Use an f-string to format the printed text\n",
        "\n",
        "To avoid confusing users, make the indexing start from 1 rather than zero. For example, one line should look something like: `\"3: The Dark Knight\"`."
      ]
    },
    {
      "cell_type": "code",
      "execution_count": null,
      "metadata": {
        "id": "KwOoBWuqFkdq",
        "outputId": "348fe8a9-3d3e-4eb1-ec51-ba149363484b",
        "colab": {
          "base_uri": "https://localhost:8080/"
        }
      },
      "outputs": [
        {
          "output_type": "stream",
          "name": "stdout",
          "text": [
            "1: The Godfather\n",
            "2: The Godfather: Part II\n",
            "3: 12 Angry Men\n",
            "4: Pulp Fiction\n",
            "5: Seven\n",
            "6: The Silence of the Lambs\n",
            "7: City of God\n",
            "8: The Green Mile\n",
            "9: American History X\n",
            "10: The Departed\n",
            "11: The Usual Suspects\n",
            "12: Witness for the Prosecution\n",
            "13: Joker\n",
            "14: Once Upon a Time in America\n",
            "15: High and Low\n",
            "16: Reservoir Dogs\n",
            "17: M\n",
            "18: A Clockwork Orange\n",
            "19: Double Indemnity\n",
            "20: Scarface\n",
            "21: To Kill a Mockingbird\n",
            "22: Taxi Driver\n",
            "23: L.A. Confidential\n",
            "24: Casino\n",
            "25: Rashomon\n",
            "26: No Country for Old Men\n",
            "27: Dial M for Murder\n",
            "28: Fargo\n",
            "29: Prisoners\n",
            "30: On the Waterfront\n",
            "31: Memories of Murder\n",
            "32: Jai Bhim\n",
            "33: La Haine\n",
            "34: Cool Hand Luke\n",
            "35: The 400 Blows\n"
          ]
        }
      ],
      "source": [
        "from typing_extensions import Concatenate\n",
        "## Write your code here\n",
        "selection_movies = get_movies_in_genre(user_genre)\n",
        "\n",
        "for idx, m in enumerate(selection_movies):\n",
        "  print(f\"{idx+1}: {m['title']}\")\n",
        "  # print(str1)"
      ]
    },
    {
      "cell_type": "code",
      "execution_count": null,
      "metadata": {
        "id": "6uy7PIaOFkdr",
        "outputId": "58463549-e8d5-4ebd-a489-46ded55867d4",
        "colab": {
          "base_uri": "https://localhost:8080/"
        }
      },
      "outputs": [
        {
          "output_type": "stream",
          "name": "stdout",
          "text": [
            "Great! The \"get_movies_in_genre\" function returns the correct movies\n",
            "You can continue to the next task\n"
          ]
        }
      ],
      "source": [
        "#@title Enter your solution here { display-mode: \"form\", run: \"auto\" }\n",
        "#@markdown For Action, which is the movie corresponding to index 12?\n",
        "first_movie = \"Gladiator\" #@param [\"The Dark Knight\", \"Leon\", \"Harakiri\", \"Gladiator\", \"Pirates of the Caribbean: The Curse of the Black Pearl\"] {allow-input: true}\n",
        "#@markdown For Drama, which is the movie corresponding to index 7?\n",
        "second_movie = \"Parasite\" #@param [\"The Help\", \"The Shawshank Redemption\", \"The Prestige\", \"Parasite\", \"Saving Private Ryan\"] {allow-input: true}\n",
        "\n",
        "#@markdown For Crime, which is the movie corresponding to index 26?\n",
        "third_movie = \"No Country for Old Men\" #@param [\"Rashomon\", \"Reservoir Dogs\", \"The Godfather\", \"No Country for Old Men\", \"Dial M for Murder\"] {allow-input: true}\n",
        "task_2 = test_milestone_4.check_get_movies_in_genre(first_movie, second_movie, third_movie, task_1)"
      ]
    },
    {
      "cell_type": "markdown",
      "metadata": {
        "id": "tfZ_YhixFkdr"
      },
      "source": [
        "# Task 3\n",
        "\n",
        "### Select and display the details of a movie\n",
        "\n",
        "Define a new function called `get_movie_by_index`. It should first print out all the movies in the genre selected.\n",
        "\n",
        "Then, it should ask the user to select a movie by entering the index of the movie. Assign this to a variable named `selected_movie_index`.\n",
        "\n",
        "\n",
        "HINT: Be careful of what data type is returned from the `input()` function.\n",
        "\n",
        "Print the key-value pairs of the selected movie's dictionary each on a new line.\n",
        "\n",
        "On each line, print the key and the value, separated by a comma.\n",
        "\n",
        "\n",
        "Make sure to use the `.items()` method of the dictionary.\n",
        "\n",
        "\n",
        "Your program should end after this."
      ]
    },
    {
      "cell_type": "code",
      "execution_count": null,
      "metadata": {
        "id": "EFf5w-5xFkds",
        "outputId": "e11ac9fb-c908-4276-8481-56e8e63c3d01",
        "colab": {
          "base_uri": "https://localhost:8080/"
        }
      },
      "outputs": [
        {
          "output_type": "stream",
          "name": "stdout",
          "text": [
            "Available genres: {'Adventure', 'Action', 'Crime', 'Comedy', 'Mystery', 'Horror', 'Drama', 'Animation', 'Western', 'Film-Noir', 'Biography'}\n",
            "Choose a genre from the above list  and type here: Comedy\n",
            "1: Life Is Beautiful\n",
            "2: Modern Times\n",
            "3: City Lights\n",
            "4: The Great Dictator\n",
            "5: Dr. Strangelove or: How I Learned to Stop Worrying and Love the Bomb\n",
            "6: Singin' in the Rain\n",
            "7: 3 Idiots\n",
            "8: Amélie\n",
            "9: The Apartment\n",
            "10: The Sting\n",
            "11: Snatch\n",
            "12: The Kid\n",
            "13: Some Like It Hot\n",
            "14: The Truman Show\n",
            "15: Three Billboards Outside Ebbing, Missouri\n",
            "16: Mr. Smith Goes to Washington\n",
            "17: Wild Tales\n",
            "18: The Big Lebowski\n",
            "19: Dead Poets Society\n",
            "20: Groundhog Day\n",
            "21: To Be or Not to Be\n",
            "22: It Happened One Night\n",
            "23: Life of Brian\n",
            "Select a movie by entering the index: 1\n",
            "0\n",
            "title, Life Is Beautiful\n",
            "description, When an open-minded Jewish waiter and his son become victims of the Holocaust, he uses a perfect mixture of will, humor, and imagination to protect his son from the dangers around their camp.\n",
            "genre, Comedy\n",
            "image_url, https://m.media-amazon.com/images/M/MV5BYmJmM2Q4NmMtYThmNC00ZjRlLWEyZmItZTIwOTBlZDQ3NTQ1XkEyXkFqcGdeQXVyMTQxNzMzNDI@._V1_UX45_CR0,0,45,67_AL_.jpg\n",
            "link, https://imdb.com/title/tt0118799/?pf_rd_m=A2FGELUUNOQJNL&pf_rd_p=1a264172-ae11-42e4-8ef7-7fed1973bb8f&pf_rd_r=VZEYAR8ZVPNKZ9V7MV87&pf_rd_s=center-1&pf_rd_t=15506&pf_rd_i=top&ref_=chttp_tt_25\n"
          ]
        }
      ],
      "source": [
        "## Write your code here\n",
        "def get_movie_by_index():\n",
        "\n",
        "  user_genre = get_user_genre_choice()\n",
        "\n",
        "  selection_movies = get_movies_in_genre(user_genre)\n",
        "\n",
        "  for idx, m in enumerate(selection_movies):\n",
        "    print(f\"{idx+1}: {m['title']}\")\n",
        "    # print(str1)\n",
        "\n",
        "  selected_index = int(input(\"Select a movie by entering the index: \"))\n",
        "\n",
        "  selected_movie_index = selected_index - 1\n",
        "  print(selected_movie_index)\n",
        "\n",
        "  selected_movie = selection_movies[selected_movie_index]\n",
        "# movie_values = selected_movie.items()\n",
        "  for k1, val1 in selected_movie.items():\n",
        "    print(f\"{k1}, {val1}\")\n",
        "\n",
        "  return None\n",
        "\n",
        "get_movie_by_index()"
      ]
    },
    {
      "cell_type": "code",
      "execution_count": null,
      "metadata": {
        "id": "Wx6STXlzFkds",
        "outputId": "3eec547d-b899-4532-e516-c6cd89577c16",
        "colab": {
          "base_uri": "https://localhost:8080/"
        }
      },
      "outputs": [
        {
          "output_type": "stream",
          "name": "stdout",
          "text": [
            "Great! The \"get_movie_by_index\" function is defined correctly\n",
            "You have completed the fourth milestone of the project! Congratulations!\n"
          ]
        }
      ],
      "source": [
        "#@title Run this cell to check your solution { display-mode: \"form\", run: \"auto\" }\n",
        "\n",
        "assert 'get_movie_by_index' in globals(), \"You need to define a function called get_movie_by_index\"\n",
        "task_3 = test_milestone_4.check_get_movie_by_index(get_movie_by_index, task_2)"
      ]
    }
  ],
  "metadata": {
    "colab": {
      "provenance": [],
      "include_colab_link": true
    },
    "kernelspec": {
      "display_name": "Python 3.9.5 ('base')",
      "language": "python",
      "name": "python3"
    },
    "language_info": {
      "codemirror_mode": {
        "name": "ipython",
        "version": 3
      },
      "file_extension": ".py",
      "mimetype": "text/x-python",
      "name": "python",
      "nbconvert_exporter": "python",
      "pygments_lexer": "ipython3",
      "version": "3.9.5 (default, Jun  4 2021, 12:28:51) \n[GCC 7.5.0]"
    },
    "orig_nbformat": 4,
    "vscode": {
      "interpreter": {
        "hash": "ce99af5845ff7f417c6fe57e3883abe41597db90e3f493c4f9da5159bbc46102"
      }
    }
  },
  "nbformat": 4,
  "nbformat_minor": 0
}