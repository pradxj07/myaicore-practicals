{
  "cells": [
    {
      "cell_type": "markdown",
      "metadata": {
        "id": "view-in-github",
        "colab_type": "text"
      },
      "source": [
        "<a href=\"https://colab.research.google.com/github/pradxj07/myaicore-practicals/blob/main/Movie_assistant_milestone_5.ipynb\" target=\"_parent\"><img src=\"https://colab.research.google.com/assets/colab-badge.svg\" alt=\"Open In Colab\"/></a>"
      ]
    },
    {
      "cell_type": "markdown",
      "metadata": {
        "id": "i_xLFYD8a_h3"
      },
      "source": [
        "# Movie Recommendation - Milestone 5\n"
      ]
    },
    {
      "cell_type": "markdown",
      "metadata": {
        "id": "atfnx0TiJqRf"
      },
      "source": [
        "<details>\n",
        "  <summary>Click in any of these links to compare your solution with ours up to this point</summary>\n",
        "  <p>\n",
        "    <a href=\"https://colab.research.google.com/github/AI-Core/movie-recommendation-solutions/blob/main/solution_m1.ipynb\" target=\"_parent\">Solution for milestone 1</a>\n",
        "  </p>\n",
        "  <p>\n",
        "    <a href=\"https://colab.research.google.com/github/AI-Core/movie-recommendation-solutions/blob/main/solution_m2.ipynb\" target=\"_parent\">Solution for milestone 2</a>\n",
        "  </p>\n",
        "    <p>\n",
        "        <a href=\"https://colab.research.google.com/github/AI-Core/movie-recommendation-solutions/blob/main/solution_m3.ipynb\" target=\"_parent\">Solution for milestone 3</a>\n",
        "    </p>\n",
        "    <p>\n",
        "        <a href=\"https://colab.research.google.com/github/AI-Core/movie-recommendation-solutions/blob/main/solution_m4.ipynb\" target=\"_parent\">Solution for milestone 4</a>\n",
        "    </p>\n",
        "</details>"
      ]
    },
    {
      "cell_type": "code",
      "execution_count": null,
      "metadata": {
        "colab": {
          "base_uri": "https://localhost:8080/"
        },
        "id": "9NqOb5WSJqRh",
        "outputId": "9474a4e2-dddf-46ce-fe02-4fa0ff4a1a43"
      },
      "outputs": [
        {
          "output_type": "stream",
          "name": "stdout",
          "text": [
            "  Preparing metadata (setup.py) ... \u001b[?25l\u001b[?25hdone\n",
            "  Preparing metadata (setup.py) ... \u001b[?25l\u001b[?25hdone\n",
            "  Building wheel for movie-rec-marking-aicore (setup.py) ... \u001b[?25l\u001b[?25hdone\n",
            "  Building wheel for timeout-decorator (setup.py) ... \u001b[?25l\u001b[?25hdone\n"
          ]
        }
      ],
      "source": [
        "#@title # Run the following cell to add the `movies` variable to your workspace. { display-mode: \"form\" }\n",
        "#@markdown Don’t worry about what’s in this collapsed cell, you’re not expected to understand the code inside\n",
        "\n",
        "!pip install movie-rec-marking-aicore --upgrade --quiet\n",
        "!wget https://aicore-files.s3.amazonaws.com/Movie-Recommendation/movies.json --quiet\n",
        "from movie_rec_marking import test_milestone_5\n",
        "import json\n",
        "with open('movies.json', 'r') as f:\n",
        "    movies = json.load(f)"
      ]
    },
    {
      "cell_type": "code",
      "execution_count": null,
      "metadata": {
        "id": "m-C9IZ94JqRj"
      },
      "outputs": [],
      "source": [
        "# Run this cell to define the `get_unique_genres` and `get_user_genre_choice` functions.\n",
        "def get_unique_genres():\n",
        "    genres = []\n",
        "    for movie in movies:\n",
        "        genres.append(movie[\"genre\"])\n",
        "    genres = set(genres)\n",
        "    return genres\n",
        "\n",
        "def get_user_genre_choice():\n",
        "    print(\"Select a genre from the following set:\")\n",
        "    print(get_unique_genres())\n",
        "    genre_choice = input(\"Type a genre then hit enter...\\n\")\n",
        "    return genre_choice"
      ]
    },
    {
      "cell_type": "markdown",
      "metadata": {
        "id": "MYQw48Lqa3Q4"
      },
      "source": [
        "# Task 1\n",
        "### Validate the user's genre choice\n",
        "\n",
        "Redefine the `get_user_genre_choice` function to validate the input and make sure that it's actually one of the genres from the dataset.\n",
        "\n",
        "If the value is not valid, then raise an error."
      ]
    },
    {
      "cell_type": "code",
      "execution_count": null,
      "metadata": {
        "id": "1UpT9BAym0iW",
        "colab": {
          "base_uri": "https://localhost:8080/",
          "height": 367
        },
        "outputId": "8d30ad2c-66d1-403d-b46d-b04914dde7cf"
      },
      "outputs": [
        {
          "name": "stdout",
          "output_type": "stream",
          "text": [
            "Select a genre from the following set:\n",
            "{'Adventure', 'Western', 'Animation', 'Biography', 'Drama', 'Action', 'Comedy', 'Crime', 'Film-Noir', 'Horror', 'Mystery'}\n",
            "Type a genre then hit enter...\n",
            "abc\n"
          ]
        },
        {
          "output_type": "error",
          "ename": "AssertionError",
          "evalue": "This is not a valid genre",
          "traceback": [
            "\u001b[0;31m---------------------------------------------------------------------------\u001b[0m",
            "\u001b[0;31mAssertionError\u001b[0m                            Traceback (most recent call last)",
            "\u001b[0;32m<ipython-input-10-e9a9c2811584>\u001b[0m in \u001b[0;36m<cell line: 10>\u001b[0;34m()\u001b[0m\n\u001b[1;32m      8\u001b[0m     \u001b[0;32mreturn\u001b[0m \u001b[0mgenre_choice\u001b[0m\u001b[0;34m\u001b[0m\u001b[0;34m\u001b[0m\u001b[0m\n\u001b[1;32m      9\u001b[0m \u001b[0;34m\u001b[0m\u001b[0m\n\u001b[0;32m---> 10\u001b[0;31m \u001b[0mget_user_genre_choice\u001b[0m\u001b[0;34m(\u001b[0m\u001b[0;34m)\u001b[0m\u001b[0;34m\u001b[0m\u001b[0;34m\u001b[0m\u001b[0m\n\u001b[0m",
            "\u001b[0;32m<ipython-input-10-e9a9c2811584>\u001b[0m in \u001b[0;36mget_user_genre_choice\u001b[0;34m()\u001b[0m\n\u001b[1;32m      5\u001b[0m     \u001b[0mprint\u001b[0m\u001b[0;34m(\u001b[0m\u001b[0munique_genres\u001b[0m\u001b[0;34m)\u001b[0m\u001b[0;34m\u001b[0m\u001b[0;34m\u001b[0m\u001b[0m\n\u001b[1;32m      6\u001b[0m     \u001b[0mgenre_choice\u001b[0m \u001b[0;34m=\u001b[0m \u001b[0minput\u001b[0m\u001b[0;34m(\u001b[0m\u001b[0;34m\"Type a genre then hit enter...\\n\"\u001b[0m\u001b[0;34m)\u001b[0m\u001b[0;34m\u001b[0m\u001b[0;34m\u001b[0m\u001b[0m\n\u001b[0;32m----> 7\u001b[0;31m     \u001b[0;32massert\u001b[0m \u001b[0mgenre_choice\u001b[0m \u001b[0;32min\u001b[0m \u001b[0munique_genres\u001b[0m\u001b[0;34m,\u001b[0m \u001b[0;34m\"This is not a valid genre\"\u001b[0m\u001b[0;34m\u001b[0m\u001b[0;34m\u001b[0m\u001b[0m\n\u001b[0m\u001b[1;32m      8\u001b[0m     \u001b[0;32mreturn\u001b[0m \u001b[0mgenre_choice\u001b[0m\u001b[0;34m\u001b[0m\u001b[0;34m\u001b[0m\u001b[0m\n\u001b[1;32m      9\u001b[0m \u001b[0;34m\u001b[0m\u001b[0m\n",
            "\u001b[0;31mAssertionError\u001b[0m: This is not a valid genre"
          ]
        }
      ],
      "source": [
        "## Write your code here\n",
        "def get_user_genre_choice():\n",
        "    unique_genres = get_unique_genres()\n",
        "    print(\"Select a genre from the following set:\")\n",
        "    print(unique_genres)\n",
        "    genre_choice = input(\"Type a genre then hit enter...\\n\")\n",
        "    assert genre_choice in unique_genres, \"This is not a valid genre\"\n",
        "    return genre_choice\n",
        "\n",
        "get_user_genre_choice()"
      ]
    },
    {
      "cell_type": "code",
      "execution_count": null,
      "metadata": {
        "colab": {
          "base_uri": "https://localhost:8080/"
        },
        "id": "qUq5WP8qJqRl",
        "outputId": "3d01188f-be37-4dae-eadd-0b4d0a54ec62"
      },
      "outputs": [
        {
          "output_type": "stream",
          "name": "stdout",
          "text": [
            "Great! The \"get_user_genre_choice\" function raises an error when you use a genre that is not in the dataset\n",
            "You can continue to the next task\n"
          ]
        }
      ],
      "source": [
        "#@title Run this cell to check your solution { display-mode: \"form\", run: \"auto\" }\n",
        "\n",
        "assert 'get_user_genre_choice' in globals(), \"You need to define a function called get_user_genre_choice\"\n",
        "task_1 = test_milestone_5.check_first_get_user_genre_choice(get_user_genre_choice)"
      ]
    },
    {
      "cell_type": "markdown",
      "metadata": {
        "id": "yIoA8s9nJqRm"
      },
      "source": [
        "# Task 2\n",
        "\n",
        "### Raise a specific type of error\n",
        "\n",
        "Specifically, raise a `ValueError` with a useful error message \"This is not a valid genre\"."
      ]
    },
    {
      "cell_type": "code",
      "execution_count": null,
      "metadata": {
        "id": "5odpN5OmJqRn"
      },
      "outputs": [],
      "source": [
        "## Write your code here\n",
        "def get_user_genre_choice():\n",
        "    unique_genres = get_unique_genres()\n",
        "    print(\"Select a genre from the following set:\")\n",
        "    print(unique_genres)\n",
        "    genre_choice = input(\"Type a genre then hit enter...\\n\")\n",
        "    if genre_choice in unique_genres:\n",
        "      return genre_choice\n",
        "    else:\n",
        "      raise ValueError(\"This is not a valid genre\")"
      ]
    },
    {
      "cell_type": "code",
      "execution_count": null,
      "metadata": {
        "colab": {
          "base_uri": "https://localhost:8080/"
        },
        "id": "ywmXE02tJqRn",
        "outputId": "a7318986-f5a4-4da2-e1de-cbc51d4c8c65"
      },
      "outputs": [
        {
          "output_type": "stream",
          "name": "stdout",
          "text": [
            "Great! The \"get_user_genre_choice\" function raises a ValueError exception when you use a genre that is not in the dataset\n",
            "You can continue to the next task\n"
          ]
        }
      ],
      "source": [
        "#@title Run this cell to check your solution { display-mode: \"form\", run: \"auto\" }\n",
        "\n",
        "assert 'get_user_genre_choice' in globals(), \"You need to define a function called get_user_genre_choice\"\n",
        "task_2 = test_milestone_5.check_second_get_user_genre_choice(get_user_genre_choice, task_1)"
      ]
    },
    {
      "cell_type": "markdown",
      "metadata": {
        "id": "be-cx_N9JqRo"
      },
      "source": [
        "# Task 3\n",
        "\n",
        "### Handle the error\n",
        "\n",
        "If the genre selected is not valid, and your code successfully raises an error when that is the case, handle the error so that instead of your code failing and stopping, it asks the user to try again.\n",
        "\n",
        "\n",
        "HINT: You may want to use an infinite `while` loop, and break out of it only if the error is not raised.\n",
        "\n",
        "\n",
        "The code should handle only the specific type of error that is raised if the genre is not valid."
      ]
    },
    {
      "cell_type": "code",
      "execution_count": null,
      "metadata": {
        "colab": {
          "base_uri": "https://localhost:8080/",
          "height": 192
        },
        "id": "BZEIELwVJqRo",
        "outputId": "62e8780c-2254-470f-f656-25ae97fda355"
      },
      "outputs": [
        {
          "name": "stdout",
          "output_type": "stream",
          "text": [
            "Select a genre from the following set:\n",
            "{'Adventure', 'Western', 'Animation', 'Biography', 'Drama', 'Action', 'Comedy', 'Crime', 'Film-Noir', 'Horror', 'Mystery'}\n",
            "Type a genre then hit enter...\n",
            "abc\n",
            "This is not a valid genre\n",
            "Select a genre from the following set:\n",
            "{'Adventure', 'Western', 'Animation', 'Biography', 'Drama', 'Action', 'Comedy', 'Crime', 'Film-Noir', 'Horror', 'Mystery'}\n",
            "Type a genre then hit enter...\n",
            "Biography\n"
          ]
        },
        {
          "output_type": "execute_result",
          "data": {
            "text/plain": [
              "'Biography'"
            ],
            "application/vnd.google.colaboratory.intrinsic+json": {
              "type": "string"
            }
          },
          "metadata": {},
          "execution_count": 17
        }
      ],
      "source": [
        "## Write your code here\n",
        "def get_user_genre_choice():\n",
        "    is_valid_choice = False\n",
        "    unique_genres = get_unique_genres()\n",
        "\n",
        "    while not(is_valid_choice):\n",
        "      print(\"Select a genre from the following set:\")\n",
        "      print(unique_genres)\n",
        "      genre_choice = input(\"Type a genre then hit enter...\\n\")\n",
        "      if (genre_choice in unique_genres):\n",
        "        is_valid_choice = True\n",
        "          # is_valid_choice = True\n",
        "      else:\n",
        "        print(\"This is not a valid genre\")\n",
        "        continue\n",
        "\n",
        "    return genre_choice\n",
        "\n",
        "get_user_genre_choice()"
      ]
    },
    {
      "cell_type": "code",
      "execution_count": null,
      "metadata": {
        "colab": {
          "base_uri": "https://localhost:8080/"
        },
        "id": "Jn9arlRMJqRp",
        "outputId": "9fe51fca-eaaf-430e-cde4-7c428aa09676"
      },
      "outputs": [
        {
          "output_type": "stream",
          "name": "stdout",
          "text": [
            "Great! The \"get_user_genre_choice\" function works correctly\n",
            "Congratulations! You completed the project!\n"
          ]
        }
      ],
      "source": [
        "#@title Run this cell to check your solution { display-mode: \"form\", run: \"auto\" }\n",
        "\n",
        "assert 'get_user_genre_choice' in globals(), \"You need to define a function called get_user_genre_choice\"\n",
        "task_3 = test_milestone_5.check_third_get_user_genre_choice(get_user_genre_choice, task_2)"
      ]
    }
  ],
  "metadata": {
    "colab": {
      "provenance": [],
      "include_colab_link": true
    },
    "kernelspec": {
      "display_name": "Python 3.9.5 ('base')",
      "language": "python",
      "name": "python3"
    },
    "language_info": {
      "codemirror_mode": {
        "name": "ipython",
        "version": 3
      },
      "file_extension": ".py",
      "mimetype": "text/x-python",
      "name": "python",
      "nbconvert_exporter": "python",
      "pygments_lexer": "ipython3",
      "version": "3.9.5 (default, Jun  4 2021, 12:28:51) \n[GCC 7.5.0]"
    },
    "orig_nbformat": 4,
    "vscode": {
      "interpreter": {
        "hash": "ce99af5845ff7f417c6fe57e3883abe41597db90e3f493c4f9da5159bbc46102"
      }
    }
  },
  "nbformat": 4,
  "nbformat_minor": 0
}