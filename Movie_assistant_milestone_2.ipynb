{
  "cells": [
    {
      "cell_type": "markdown",
      "metadata": {
        "id": "view-in-github",
        "colab_type": "text"
      },
      "source": [
        "<a href=\"https://colab.research.google.com/github/pradxj07/myaicore-practicals/blob/main/Movie_assistant_milestone_2.ipynb\" target=\"_parent\"><img src=\"https://colab.research.google.com/assets/colab-badge.svg\" alt=\"Open In Colab\"/></a>"
      ]
    },
    {
      "cell_type": "markdown",
      "metadata": {
        "id": "i_xLFYD8a_h3"
      },
      "source": [
        "# Movie Recommendation - Milestone 2"
      ]
    },
    {
      "cell_type": "markdown",
      "metadata": {
        "id": "ORaNFR95AB4k"
      },
      "source": [
        "<details>\n",
        "  <summary>Click in any of these links to compare your solution with ours up to this point</summary>\n",
        "  <p>\n",
        "    <a href=\"https://colab.research.google.com/github/AI-Core/movie-recommendation-solutions/blob/main/solution_m1.ipynb\" target=\"_parent\">Solution for milestone 1</a>\n",
        "  </p>\n",
        "</details>"
      ]
    },
    {
      "cell_type": "code",
      "execution_count": null,
      "metadata": {
        "id": "RLn-_E7Ba3Q4"
      },
      "outputs": [],
      "source": [
        "#@title # Run this cell before you start coding { display-mode: \"form\" }\n",
        "#@markdown Don’t worry about what’s in this collapsed cell, you’re not expected to understand the code inside\n",
        "\n",
        "!pip install movie-rec-marking-aicore --upgrade --quiet\n",
        "!wget https://aicore-files.s3.amazonaws.com/Movie-Recommendation/movies-head.json --quiet\n",
        "import json\n",
        "from movie_rec_marking import test_milestone_2\n",
        "\n",
        "# Load the movies\n",
        "with open('movies-head.json', 'r') as f:\n",
        "    movies = json.load(f)"
      ]
    },
    {
      "cell_type": "markdown",
      "metadata": {
        "id": "MYQw48Lqa3Q4"
      },
      "source": [
        "# Task 1\n",
        "### Display all the movies' titles\n",
        "\n",
        "Define a function called `print_every_movie_title` that goes through the list of movies and prints each of their title, one by one. The function should not return anything"
      ]
    },
    {
      "cell_type": "code",
      "execution_count": null,
      "metadata": {
        "id": "1UpT9BAym0iW",
        "colab": {
          "base_uri": "https://localhost:8080/"
        },
        "outputId": "a5b8b4b5-41e8-48f8-ef55-c15b71bb7c99"
      },
      "outputs": [
        {
          "output_type": "stream",
          "name": "stdout",
          "text": [
            "The Truman show\n",
            "Inside Out\n",
            "WALL·E\n",
            "The Wild Robot\n",
            "Bend It Like Beckham\n"
          ]
        }
      ],
      "source": [
        "def print_every_movie_title(movies):\n",
        "  for m in movies:\n",
        "    print(m[\"title\"])\n",
        "\n",
        "  return None\n",
        "\n",
        "movies_to_print = \t[\n",
        "\t{\"title\": \"The Truman show\", \"description\": \"person who does not know he is in a reality tv show\"}\n",
        "\t,{\"title\": \"Inside Out\", \"description\": \"Emotions of a 10 year old - Joy, Fear, Anger, Disgust and Sadness - conflict on how best to navigate a new city, house, and school\"}\n",
        "\t,{\"title\": \"WALL·E\", \"description\": \"How two robots convert a waste-covered Earth\"}\n",
        "\t,{\"title\": \"The Wild Robot\", \"description\": \"Change of 'heart' for a robot\"}\n",
        "\t,{\"title\": \"Bend It Like Beckham\", \"description\": \"Culture clash in a British Indian family\"}\n",
        "\t\t\t\t          \t]\n",
        "\n",
        "# print_every_movie_title(movies_to_print)"
      ]
    },
    {
      "cell_type": "code",
      "execution_count": null,
      "metadata": {
        "colab": {
          "base_uri": "https://localhost:8080/"
        },
        "id": "Kn6HhZl2AB4p",
        "outputId": "bdb6057e-fd01-4f87-fb7e-bb33efa1648c"
      },
      "outputs": [
        {
          "output_type": "stream",
          "name": "stdout",
          "text": [
            "Great! The function prints every movie name\n",
            "You can continue to the next task\n"
          ]
        }
      ],
      "source": [
        "#@title Run this cell to check your solution { display-mode: \"form\", run: \"auto\" }\n",
        "assert 'print_every_movie_title' in globals(), \"Please define the function print_every_movie_title\"\n",
        "task_1 = test_milestone_2.check_print_every_movie_title(print_every_movie_title)"
      ]
    },
    {
      "cell_type": "markdown",
      "metadata": {
        "id": "00ADfBwtAB4q"
      },
      "source": [
        "# Task 2\n",
        "\n",
        "### What is the length of a given movie's description?\n",
        "\n",
        "Define a function called `get_movie_description_length` that takes in one of the movies from the list of movies.\n",
        "You should pass the entire dictionary from the relevant entry in the list of movies as an input argument to the function.\n",
        "The function should then return the exact number of characters in its description, formatted as an integer.\n",
        "\n",
        "Test the function you have defined by using it to check the description of the the first entry in the `movies` list (i.e. `movies[0]`)."
      ]
    },
    {
      "cell_type": "code",
      "execution_count": null,
      "metadata": {
        "colab": {
          "base_uri": "https://localhost:8080/"
        },
        "id": "2v86UvJ4AB4r",
        "outputId": "b20628c4-6d40-48c4-f0ca-0a1b956a3a4c"
      },
      "outputs": [
        {
          "output_type": "execute_result",
          "data": {
            "text/plain": [
              "51"
            ]
          },
          "metadata": {},
          "execution_count": 12
        }
      ],
      "source": [
        "## Write your code here\n",
        "def get_movie_description_length(a_movie):\n",
        "  return len(a_movie[\"description\"])\n",
        "\n",
        "movies_to_print = \t[\n",
        "\t{\"title\": \"The Truman show\", \"description\": \"person who does not know he is in a reality tv show\"}\n",
        "\t,{\"title\": \"Inside Out\", \"description\": \"Emotions of a 10 year old - Joy, Fear, Anger, Disgust and Sadness - conflict on how best to navigate a new city, house, and school\"}\n",
        "\t,{\"title\": \"WALL·E\", \"description\": \"How two robots convert a waste-covered Earth\"}\n",
        "\t,{\"title\": \"The Wild Robot\", \"description\": \"Change of 'heart' for a robot\"}\n",
        "\t,{\"title\": \"Bend It Like Beckham\", \"description\": \"Culture clash in a British Indian family\"}\n",
        "\t\t\t\t          \t]\n",
        "\n",
        "get_movie_description_length(movies_to_print[0])"
      ]
    },
    {
      "cell_type": "code",
      "execution_count": null,
      "metadata": {
        "colab": {
          "base_uri": "https://localhost:8080/"
        },
        "id": "eBSqJx1yAB4s",
        "outputId": "40334d1e-26fa-4d03-b4ef-92b94cb4c082"
      },
      "outputs": [
        {
          "output_type": "stream",
          "name": "stdout",
          "text": [
            "testing  the function with movie:  The Godfather\n",
            "Testing that the function can accept a movie as an argument, and that it returns the correct length of the description as an integer type\n",
            "Great! The function returns the correct length of the description:  149\n",
            "You can continue to the next task\n"
          ]
        }
      ],
      "source": [
        "#@title Run this cell to check your solution { display-mode: \"form\", run: \"auto\" }\n",
        "assert 'get_movie_description_length' in globals(), \"Please define the function get_movie_description_length\"\n",
        "task_2 = test_milestone_2.check_get_movie_description_length(get_movie_description_length, task_1)"
      ]
    },
    {
      "cell_type": "markdown",
      "metadata": {
        "id": "GLvaFoeCAB4t"
      },
      "source": [
        "# Task 3\n",
        "\n",
        "### What is the average length of any movie description?\n",
        "\n",
        "Define a function called `get_avg_movie_description_length` that returns the average number of characters in each movie description, averaged across the whole dataset.\n",
        "\n",
        "The function should return a floating point number, rounded to 1 decimal place.\n",
        "\n",
        "To avoid repeating code, make sure that you use the function you defined earlier for getting the movie description length inside this function."
      ]
    },
    {
      "cell_type": "code",
      "execution_count": null,
      "metadata": {
        "colab": {
          "base_uri": "https://localhost:8080/"
        },
        "id": "W3oQKp-CAB4u",
        "outputId": "74813cce-6b9b-41ff-b4c7-9c3e3df2eb87"
      },
      "outputs": [
        {
          "output_type": "execute_result",
          "data": {
            "text/plain": [
              "58.8"
            ]
          },
          "metadata": {},
          "execution_count": 39
        }
      ],
      "source": [
        "## Write your code here\n",
        "def get_avg_movie_description_length(movies):\n",
        "\tsum = 0\n",
        "\tfor m in movies:\n",
        "\t\tsum += len(m[\"description\"])\n",
        "\treturn sum/len(movies)\n",
        "\n",
        "movies_to_print = \t[\n",
        "\t{\"title\": \"The Truman show\", \"description\": \"person who does not know he is in a reality tv show\"}\n",
        "\t,{\"title\": \"Inside Out\", \"description\": \"Emotions of a 10 year old - Joy, Fear, Anger, Disgust and Sadness - conflict on how best to navigate a new city, house, and school\"}\n",
        "\t,{\"title\": \"WALL·E\", \"description\": \"How two robots convert a waste-covered Earth\"}\n",
        "\t,{\"title\": \"The Wild Robot\", \"description\": \"Change of 'heart' for a robot\"}\n",
        "\t,{\"title\": \"Bend It Like Beckham\", \"description\": \"Culture clash in a British Indian family\"}\n",
        "\t\t\t\t          \t]\n",
        "\n",
        "get_avg_movie_description_length(movies_to_print)"
      ]
    },
    {
      "cell_type": "code",
      "execution_count": null,
      "metadata": {
        "colab": {
          "base_uri": "https://localhost:8080/"
        },
        "id": "QZL7c8BTAB4u",
        "outputId": "2d2d5b07-29df-4398-c900-c384a0ea9248"
      },
      "outputs": [
        {
          "output_type": "stream",
          "name": "stdout",
          "text": [
            "Great! The \"get_avg_movie_description_length\" function returns the correct average length of the description\n",
            "You can continue to the next task\n"
          ]
        }
      ],
      "source": [
        "#@title Run this cell to check your solution { display-mode: \"form\", run: \"auto\" }\n",
        "assert 'get_avg_movie_description_length' in globals(), \"Please define the function get_avg_movie_description_length\"\n",
        "task_3 = test_milestone_2.check_get_avg_movie_description_length(get_avg_movie_description_length, task_2)"
      ]
    },
    {
      "cell_type": "markdown",
      "metadata": {
        "id": "nAeI3rFKAB4x"
      },
      "source": [
        "# Task 4\n",
        "\n",
        "### What is the maximum length of any movie name?\n",
        "\n",
        "Define a function called `get_max_movie_name_length`.\n",
        "\n",
        "It should return two things, in this order:\n",
        "\n",
        "1. The integer number of the length of the longest movie name\n",
        "2. The name of the movie"
      ]
    },
    {
      "cell_type": "code",
      "execution_count": null,
      "metadata": {
        "colab": {
          "base_uri": "https://localhost:8080/"
        },
        "id": "q5c9BoO_AB4x",
        "outputId": "15355f15-9f61-4b0a-813a-33817f9232c0"
      },
      "outputs": [
        {
          "output_type": "stream",
          "name": "stdout",
          "text": [
            "[(15, 'The Truman show')]\n",
            "[(15, 'The Truman show'), (10, 'Inside Out')]\n",
            "[(15, 'The Truman show'), (10, 'Inside Out'), (6, 'WALL·E')]\n",
            "[(15, 'The Truman show'), (10, 'Inside Out'), (6, 'WALL·E'), (14, 'The Wild Robot')]\n",
            "[(15, 'The Truman show'), (10, 'Inside Out'), (6, 'WALL·E'), (14, 'The Wild Robot'), (20, 'Bend It Like Beckham')]\n"
          ]
        },
        {
          "output_type": "execute_result",
          "data": {
            "text/plain": [
              "(20, 'Bend It Like Beckham')"
            ]
          },
          "metadata": {},
          "execution_count": 41
        }
      ],
      "source": [
        "## Write your code here\n",
        "\n",
        "def get_max_movie_name_length(movies):\n",
        "\n",
        "  names = []\n",
        "  for m in movies:\n",
        "    names.append((len(m[\"title\"]),m[\"title\"]))\n",
        "    print(names);\n",
        "\n",
        "  return max(names)\n",
        "\n",
        "movies_to_print = \t[\n",
        "\t{\"title\": \"The Truman show\", \"description\": \"person who does not know he is in a reality tv show\"}\n",
        "\t,{\"title\": \"Inside Out\", \"description\": \"Emotions of a 10 year old - Joy, Fear, Anger, Disgust and Sadness - conflict on how best to navigate a new city, house, and school\"}\n",
        "\t,{\"title\": \"WALL·E\", \"description\": \"How two robots convert a waste-covered Earth\"}\n",
        "\t,{\"title\": \"The Wild Robot\", \"description\": \"Change of 'heart' for a robot\"}\n",
        "\t,{\"title\": \"Bend It Like Beckham\", \"description\": \"Culture clash in a British Indian family\"}\n",
        "\t\t\t\t          \t]\n",
        "\n",
        "get_max_movie_name_length(movies_to_print)"
      ]
    },
    {
      "cell_type": "code",
      "execution_count": null,
      "metadata": {
        "colab": {
          "base_uri": "https://localhost:8080/"
        },
        "id": "uWV_sQg5AB4y",
        "outputId": "685003cd-eaf5-41d1-e51f-fcaa1fad97d5"
      },
      "outputs": [
        {
          "output_type": "stream",
          "name": "stdout",
          "text": [
            "[(24, 'The Shawshank Redemption')]\n",
            "[(24, 'The Shawshank Redemption'), (13, 'The Godfather')]\n",
            "[(24, 'The Shawshank Redemption'), (13, 'The Godfather'), (15, 'The Dark Knight')]\n",
            "[(24, 'The Shawshank Redemption'), (13, 'The Godfather'), (15, 'The Dark Knight'), (22, 'The Godfather: Part II')]\n",
            "[(24, 'The Shawshank Redemption'), (13, 'The Godfather'), (15, 'The Dark Knight'), (22, 'The Godfather: Part II'), (12, '12 Angry Men')]\n",
            "Great! The \"get_max_movie_name_length\" function returns the correct maximum length of the movie name:  (24, 'The Shawshank Redemption')\n",
            "Nice job! You have complete the second milestone of the project!\n"
          ]
        }
      ],
      "source": [
        "#@title Run this cell to check your solution { display-mode: \"form\", run: \"auto\" }\n",
        "assert 'get_max_movie_name_length' in globals(), \"Please define the function get_max_movie_name_length\"\n",
        "task_4 = test_milestone_2.check_get_max_movie_name_length(get_max_movie_name_length, task_3)"
      ]
    }
  ],
  "metadata": {
    "colab": {
      "provenance": [],
      "include_colab_link": true
    },
    "kernelspec": {
      "display_name": "base",
      "language": "python",
      "name": "python3"
    },
    "language_info": {
      "codemirror_mode": {
        "name": "ipython",
        "version": 3
      },
      "file_extension": ".py",
      "mimetype": "text/x-python",
      "name": "python",
      "nbconvert_exporter": "python",
      "pygments_lexer": "ipython3",
      "version": "3.9.12 (main, Apr  5 2022, 06:56:58) \n[GCC 7.5.0]"
    },
    "orig_nbformat": 4,
    "vscode": {
      "interpreter": {
        "hash": "a2592652612463181e69ac003232387e3e9a99279aa6b168e76f5df16d5110f4"
      }
    }
  },
  "nbformat": 4,
  "nbformat_minor": 0
}